{
 "cells": [
  {
   "cell_type": "code",
   "execution_count": 6,
   "metadata": {},
   "outputs": [
    {
     "data": {
      "text/plain": [
       "[None, None, <torch._C.Generator at 0x1c808d587f0>, None, None, None]"
      ]
     },
     "execution_count": 6,
     "metadata": {},
     "output_type": "execute_result"
    }
   ],
   "source": [
    "# ==================== Reproducibilidad ====================\n",
    "import random\n",
    "import numpy as np\n",
    "import torch\n",
    "import re\n",
    "from bs4 import BeautifulSoup\n",
    "from langdetect import detect, DetectorFactory\n",
    "import pandas as pd\n",
    "from sklearn.model_selection import train_test_split\n",
    "from sklearn.preprocessing import LabelEncoder\n",
    "from torch.utils.data import Dataset\n",
    "from transformers import (\n",
    "    AutoTokenizer, \n",
    "    AutoModelForSequenceClassification, \n",
    "    TrainingArguments, \n",
    "    Trainer\n",
    ")\n",
    "from sklearn.metrics import accuracy_score, precision_score, recall_score, f1_score, confusion_matrix, classification_report\n",
    "import seaborn as sns\n",
    "import matplotlib.pyplot as plt\n",
    "\n",
    "DetectorFactory.seed = 0\n",
    "set_seed = lambda seed=42: [random.seed(seed), np.random.seed(seed), torch.manual_seed(seed), torch.cuda.manual_seed_all(seed), setattr(torch.backends.cudnn, 'deterministic', True), setattr(torch.backends.cudnn, 'benchmark', False)]\n",
    "set_seed()"
   ]
  },
  {
   "cell_type": "code",
   "execution_count": 7,
   "metadata": {},
   "outputs": [],
   "source": [
    "# ==================== Funciones de preprocesamiento ====================\n",
    "def es_ingles(texto):\n",
    "    try:\n",
    "        return detect(texto) == 'en'\n",
    "    except:\n",
    "        return False\n",
    "\n",
    "def limpiar_texto(texto):\n",
    "    if not texto or texto.strip() == '':\n",
    "        return 'Texto vacío'\n",
    "    texto_limpio = BeautifulSoup(texto, \"html.parser\").get_text()\n",
    "    texto_limpio = texto_limpio.lower()\n",
    "    texto_limpio = re.sub(r'^(introduction|aims|objectives|methods|results|discussion|conclusion):\\s*', '', texto_limpio, flags=re.IGNORECASE)\n",
    "    texto_limpio = re.sub(r'\\b(notwithstanding|this paper aims|to evaluate|previous studies suggest that|the purpose of this study is)\\b', '', texto_limpio)\n",
    "    texto_limpio = re.sub(r'[^a-z0-9\\s,.]', '', texto_limpio)\n",
    "    texto_limpio = re.sub(r'\\s+', ' ', texto_limpio).strip()\n",
    "    return texto_limpio\n"
   ]
  },
  {
   "cell_type": "code",
   "execution_count": 9,
   "metadata": {},
   "outputs": [],
   "source": [
    "# ==================== Cargar y preparar dataset ====================\n",
    "file_path = r\"C:\\\\Users\\\\Jhonr\\\\Project_ODS_BERT\\\\Muestra_Estratificada_6_7_9_13_OTROS-GPT.xlsx\"\n",
    "df = pd.read_excel(file_path)\n",
    "df = df[df[\"ODS\"].isin([\"ODS 9\", \"OTROS\"])]\n",
    "df['Abstract_Limpio'] = df['Abstract'].apply(lambda x: limpiar_texto(x) if es_ingles(x) else None)\n",
    "df = df.dropna(subset=['Abstract_Limpio'])\n",
    "\n",
    "textos = df[\"Abstract_Limpio\"].tolist()\n",
    "etiquetas = df[\"ODS\"].tolist()"
   ]
  },
  {
   "cell_type": "code",
   "execution_count": 10,
   "metadata": {},
   "outputs": [],
   "source": [
    "# ==================== Codificar etiquetas ====================\n",
    "label_encoder = LabelEncoder()\n",
    "labels_codificados = label_encoder.fit_transform(etiquetas)\n",
    "id2label = {i: label for i, label in enumerate(label_encoder.classes_)}\n",
    "label2id = {v: k for k, v in id2label.items()}\n",
    "\n",
    "# ==================== División de datos ====================\n",
    "X_train, X_val, y_train, y_val = train_test_split(\n",
    "    textos, labels_codificados, test_size=0.2, random_state=42, stratify=labels_codificados\n",
    ")"
   ]
  },
  {
   "cell_type": "code",
   "execution_count": 11,
   "metadata": {},
   "outputs": [
    {
     "name": "stderr",
     "output_type": "stream",
     "text": [
      "c:\\Users\\Jhonr\\anaconda3\\envs\\Entorno_Sugerido_NPL_jl\\lib\\site-packages\\transformers\\tokenization_utils_base.py:1601: FutureWarning: `clean_up_tokenization_spaces` was not set. It will be set to `True` by default. This behavior will be depracted in transformers v4.45, and will be then set to `False` by default. For more details check this issue: https://github.com/huggingface/transformers/issues/31884\n",
      "  warnings.warn(\n"
     ]
    }
   ],
   "source": [
    "# ==================== Dataset para BERT ====================\n",
    "tokenizer = AutoTokenizer.from_pretrained(\"bert-base-uncased\")\n",
    "\n",
    "class ODSDataset(Dataset):\n",
    "    def __init__(self, textos, etiquetas):\n",
    "        self.encodings = tokenizer(textos, truncation=True, padding=\"max_length\", max_length=256)\n",
    "        self.labels = etiquetas\n",
    "\n",
    "    def __len__(self):\n",
    "        return len(self.labels)\n",
    "\n",
    "    def __getitem__(self, idx):\n",
    "        item = {key: torch.tensor(val[idx]) for key, val in self.encodings.items()}\n",
    "        item[\"labels\"] = torch.tensor(self.labels[idx])\n",
    "        return item\n",
    "\n",
    "train_dataset = ODSDataset(X_train, y_train)\n",
    "val_dataset = ODSDataset(X_val, y_val)"
   ]
  },
  {
   "cell_type": "code",
   "execution_count": 12,
   "metadata": {},
   "outputs": [
    {
     "name": "stderr",
     "output_type": "stream",
     "text": [
      "Some weights of BertForSequenceClassification were not initialized from the model checkpoint at bert-base-uncased and are newly initialized: ['classifier.bias', 'classifier.weight']\n",
      "You should probably TRAIN this model on a down-stream task to be able to use it for predictions and inference.\n",
      "c:\\Users\\Jhonr\\anaconda3\\envs\\Entorno_Sugerido_NPL_jl\\lib\\site-packages\\transformers\\training_args.py:1525: FutureWarning: `evaluation_strategy` is deprecated and will be removed in version 4.46 of 🤗 Transformers. Use `eval_strategy` instead\n",
      "  warnings.warn(\n",
      " 20%|██        | 22/110 [00:07<00:29,  3.01it/s]\n",
      " 20%|██        | 22/110 [00:08<00:29,  3.01it/s]"
     ]
    },
    {
     "name": "stdout",
     "output_type": "stream",
     "text": [
      "{'eval_loss': 0.631450891494751, 'eval_accuracy': 0.75, 'eval_precision': 0.7547368421052632, 'eval_recall': 0.75, 'eval_f1': 0.7488323819408407, 'eval_runtime': 0.6097, 'eval_samples_per_second': 72.162, 'eval_steps_per_second': 9.84, 'epoch': 1.0}\n"
     ]
    },
    {
     "name": "stderr",
     "output_type": "stream",
     "text": [
      " 40%|████      | 44/110 [00:16<00:22,  3.00it/s]\n",
      " 40%|████      | 44/110 [00:17<00:22,  3.00it/s]"
     ]
    },
    {
     "name": "stdout",
     "output_type": "stream",
     "text": [
      "{'eval_loss': 0.5147926807403564, 'eval_accuracy': 0.7954545454545454, 'eval_precision': 0.7960662525879918, 'eval_recall': 0.7954545454545454, 'eval_f1': 0.7953488372093024, 'eval_runtime': 0.6085, 'eval_samples_per_second': 72.305, 'eval_steps_per_second': 9.86, 'epoch': 2.0}\n"
     ]
    },
    {
     "name": "stderr",
     "output_type": "stream",
     "text": [
      " 60%|██████    | 66/110 [00:25<00:14,  3.03it/s]\n",
      " 60%|██████    | 66/110 [00:26<00:14,  3.03it/s]"
     ]
    },
    {
     "name": "stdout",
     "output_type": "stream",
     "text": [
      "{'eval_loss': 0.43018484115600586, 'eval_accuracy': 0.7727272727272727, 'eval_precision': 0.7946428571428572, 'eval_recall': 0.7727272727272727, 'eval_f1': 0.768421052631579, 'eval_runtime': 0.6014, 'eval_samples_per_second': 73.162, 'eval_steps_per_second': 9.977, 'epoch': 3.0}\n"
     ]
    },
    {
     "name": "stderr",
     "output_type": "stream",
     "text": [
      " 80%|████████  | 88/110 [00:35<00:07,  3.03it/s]\n",
      " 80%|████████  | 88/110 [00:35<00:07,  3.03it/s]"
     ]
    },
    {
     "name": "stdout",
     "output_type": "stream",
     "text": [
      "{'eval_loss': 0.33873817324638367, 'eval_accuracy': 0.8863636363636364, 'eval_precision': 0.8871635610766045, 'eval_recall': 0.8863636363636364, 'eval_f1': 0.8863049095607235, 'eval_runtime': 0.6045, 'eval_samples_per_second': 72.787, 'eval_steps_per_second': 9.926, 'epoch': 4.0}\n"
     ]
    },
    {
     "name": "stderr",
     "output_type": "stream",
     "text": [
      "100%|██████████| 110/110 [00:44<00:00,  3.01it/s]\n",
      "100%|██████████| 110/110 [00:46<00:00,  3.01it/s]"
     ]
    },
    {
     "name": "stdout",
     "output_type": "stream",
     "text": [
      "{'eval_loss': 0.3222765624523163, 'eval_accuracy': 0.8636363636363636, 'eval_precision': 0.8636363636363636, 'eval_recall': 0.8636363636363636, 'eval_f1': 0.8636363636363636, 'eval_runtime': 0.5632, 'eval_samples_per_second': 78.122, 'eval_steps_per_second': 10.653, 'epoch': 5.0}\n"
     ]
    },
    {
     "name": "stderr",
     "output_type": "stream",
     "text": [
      "100%|██████████| 110/110 [00:48<00:00,  2.27it/s]"
     ]
    },
    {
     "name": "stdout",
     "output_type": "stream",
     "text": [
      "{'train_runtime': 48.5177, 'train_samples_per_second': 18.138, 'train_steps_per_second': 2.267, 'train_loss': 0.4155637567693537, 'epoch': 5.0}\n"
     ]
    },
    {
     "name": "stderr",
     "output_type": "stream",
     "text": [
      "\n"
     ]
    },
    {
     "data": {
      "text/plain": [
       "TrainOutput(global_step=110, training_loss=0.4155637567693537, metrics={'train_runtime': 48.5177, 'train_samples_per_second': 18.138, 'train_steps_per_second': 2.267, 'total_flos': 115768864358400.0, 'train_loss': 0.4155637567693537, 'epoch': 5.0})"
      ]
     },
     "execution_count": 12,
     "metadata": {},
     "output_type": "execute_result"
    }
   ],
   "source": [
    "# ==================== Modelo y entrenamiento ====================\n",
    "model = AutoModelForSequenceClassification.from_pretrained(\n",
    "    \"bert-base-uncased\",\n",
    "    num_labels=len(label_encoder.classes_),\n",
    "    id2label=id2label,\n",
    "    label2id=label2id\n",
    ")\n",
    "\n",
    "training_args = TrainingArguments(\n",
    "    output_dir=f\"./resultados_bert_9_otros_unificado\",\n",
    "    evaluation_strategy=\"epoch\",\n",
    "    save_strategy=\"epoch\",\n",
    "    learning_rate=2e-5,\n",
    "    per_device_train_batch_size=8,\n",
    "    per_device_eval_batch_size=8,\n",
    "    num_train_epochs=5,\n",
    "    weight_decay=0.01,\n",
    "    seed=42,\n",
    "    logging_dir=f\"./logs_bert_9_otros_unificado\",\n",
    "    load_best_model_at_end=True,\n",
    "    metric_for_best_model=\"f1\"\n",
    ")\n",
    "\n",
    "def compute_metrics(pred):\n",
    "    labels = pred.label_ids\n",
    "    preds = pred.predictions.argmax(-1)\n",
    "    return {\n",
    "        \"accuracy\": accuracy_score(labels, preds),\n",
    "        \"precision\": precision_score(labels, preds, average=\"weighted\"),\n",
    "        \"recall\": recall_score(labels, preds, average=\"weighted\"),\n",
    "        \"f1\": f1_score(labels, preds, average=\"weighted\")\n",
    "    }\n",
    "\n",
    "trainer = Trainer(\n",
    "    model=model,\n",
    "    args=training_args,\n",
    "    train_dataset=train_dataset,\n",
    "    eval_dataset=val_dataset,\n",
    "    tokenizer=tokenizer,\n",
    "    compute_metrics=compute_metrics\n",
    ")\n",
    "\n",
    "trainer.train()"
   ]
  },
  {
   "cell_type": "code",
   "execution_count": 13,
   "metadata": {},
   "outputs": [
    {
     "name": "stderr",
     "output_type": "stream",
     "text": [
      "100%|██████████| 6/6 [00:00<00:00, 12.72it/s]\n"
     ]
    },
    {
     "name": "stdout",
     "output_type": "stream",
     "text": [
      "\n",
      "Reporte de clasificación (modelo unificado):\n",
      "              precision    recall  f1-score   support\n",
      "\n",
      "       ODS 9       0.87      0.91      0.89        22\n",
      "       OTROS       0.90      0.86      0.88        22\n",
      "\n",
      "    accuracy                           0.89        44\n",
      "   macro avg       0.89      0.89      0.89        44\n",
      "weighted avg       0.89      0.89      0.89        44\n",
      "\n"
     ]
    },
    {
     "data": {
      "image/png": "[encoded data removed]",
      "text/plain": [
       "<Figure size 600x400 with 2 Axes>"
      ]
     },
     "metadata": {},
     "output_type": "display_data"
    }
   ],
   "source": [
    "# ==================== Evaluación final ====================\n",
    "preds = trainer.predict(val_dataset)\n",
    "y_true = preds.label_ids\n",
    "y_pred = preds.predictions.argmax(-1)\n",
    "\n",
    "print(\"\\nReporte de clasificación (modelo unificado):\")\n",
    "print(classification_report(y_true, y_pred, target_names=label_encoder.classes_))\n",
    "\n",
    "cm = confusion_matrix(y_true, y_pred)\n",
    "plt.figure(figsize=(6, 4))\n",
    "sns.heatmap(cm, annot=True, fmt=\"d\", xticklabels=label_encoder.classes_, yticklabels=label_encoder.classes_, cmap=\"Blues\")\n",
    "plt.title(\"Matriz de confusión - Modelo unificado\")\n",
    "plt.xlabel(\"Predicción\")\n",
    "plt.ylabel(\"Real\")\n",
    "plt.tight_layout()\n",
    "plt.show()"
   ]
  },
  {
   "cell_type": "code",
   "execution_count": 14,
   "metadata": {},
   "outputs": [
    {
     "data": {
      "text/plain": [
       "('C:\\\\\\\\Users\\\\\\\\Jhonr\\\\\\\\Project_ODS_BERT\\\\\\\\Modelos\\\\\\\\BERT_9_OTROS_UNIFICADO\\\\tokenizer_config.json',\n",
       " 'C:\\\\\\\\Users\\\\\\\\Jhonr\\\\\\\\Project_ODS_BERT\\\\\\\\Modelos\\\\\\\\BERT_9_OTROS_UNIFICADO\\\\special_tokens_map.json',\n",
       " 'C:\\\\\\\\Users\\\\\\\\Jhonr\\\\\\\\Project_ODS_BERT\\\\\\\\Modelos\\\\\\\\BERT_9_OTROS_UNIFICADO\\\\vocab.txt',\n",
       " 'C:\\\\\\\\Users\\\\\\\\Jhonr\\\\\\\\Project_ODS_BERT\\\\\\\\Modelos\\\\\\\\BERT_9_OTROS_UNIFICADO\\\\added_tokens.json',\n",
       " 'C:\\\\\\\\Users\\\\\\\\Jhonr\\\\\\\\Project_ODS_BERT\\\\\\\\Modelos\\\\\\\\BERT_9_OTROS_UNIFICADO\\\\tokenizer.json')"
      ]
     },
     "execution_count": 14,
     "metadata": {},
     "output_type": "execute_result"
    }
   ],
   "source": [
    "# ==================== Guardar modelo ====================\n",
    "modelo_path = r\"C:\\\\Users\\\\Jhonr\\\\Project_ODS_BERT\\\\Modelos\\\\BERT_9_OTROS_UNIFICADO\"\n",
    "model.save_pretrained(modelo_path)\n",
    "tokenizer.save_pretrained(modelo_path)"
   ]
  }
 ],
 "metadata": {
  "kernelspec": {
   "display_name": "Entorno_Sugerido_NPL_jl",
   "language": "python",
   "name": "python3"
  },
  "language_info": {
   "codemirror_mode": {
    "name": "ipython",
    "version": 3
   },
   "file_extension": ".py",
   "mimetype": "text/x-python",
   "name": "python",
   "nbconvert_exporter": "python",
   "pygments_lexer": "ipython3",
   "version": "3.8.20"
  }
 },
 "nbformat": 4,
 "nbformat_minor": 2
}
