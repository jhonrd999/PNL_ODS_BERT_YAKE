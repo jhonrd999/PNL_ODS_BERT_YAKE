{
 "cells": [
  {
   "cell_type": "code",
   "execution_count": 1,
   "metadata": {},
   "outputs": [
    {
     "name": "stderr",
     "output_type": "stream",
     "text": [
      "c:\\Users\\Jhonr\\anaconda3\\envs\\Entorno_Sugerido_NPL_jl\\lib\\site-packages\\tqdm\\auto.py:21: TqdmWarning: IProgress not found. Please update jupyter and ipywidgets. See https://ipywidgets.readthedocs.io/en/stable/user_install.html\n",
      "  from .autonotebook import tqdm as notebook_tqdm\n"
     ]
    },
    {
     "data": {
      "text/plain": [
       "[None, None, <torch._C.Generator at 0x21e5bd837f0>, None, None, None]"
      ]
     },
     "execution_count": 1,
     "metadata": {},
     "output_type": "execute_result"
    }
   ],
   "source": [
    "# ==================== Reproducibilidad ====================\n",
    "import random\n",
    "import numpy as np\n",
    "import torch\n",
    "import re\n",
    "from bs4 import BeautifulSoup\n",
    "from langdetect import detect, DetectorFactory\n",
    "import pandas as pd\n",
    "from sklearn.model_selection import train_test_split\n",
    "from sklearn.preprocessing import LabelEncoder\n",
    "from torch.utils.data import Dataset\n",
    "from transformers import (\n",
    "    AutoTokenizer, \n",
    "    AutoModelForSequenceClassification, \n",
    "    TrainingArguments, \n",
    "    Trainer\n",
    ")\n",
    "from sklearn.metrics import accuracy_score, precision_score, recall_score, f1_score, confusion_matrix, classification_report\n",
    "import seaborn as sns\n",
    "import matplotlib.pyplot as plt\n",
    "\n",
    "DetectorFactory.seed = 0\n",
    "set_seed = lambda seed=42: [random.seed(seed), np.random.seed(seed), torch.manual_seed(seed), torch.cuda.manual_seed_all(seed), setattr(torch.backends.cudnn, 'deterministic', True), setattr(torch.backends.cudnn, 'benchmark', False)]\n",
    "set_seed()\n"
   ]
  },
  {
   "cell_type": "code",
   "execution_count": 2,
   "metadata": {},
   "outputs": [],
   "source": [
    "# ==================== Funciones de preprocesamiento ====================\n",
    "def es_ingles(texto):\n",
    "    try:\n",
    "        return detect(texto) == 'en'\n",
    "    except:\n",
    "        return False\n",
    "\n",
    "def limpiar_texto(texto):\n",
    "    if not texto or texto.strip() == '':\n",
    "        return 'Texto vacío'\n",
    "    texto_limpio = BeautifulSoup(texto, \"html.parser\").get_text()\n",
    "    texto_limpio = texto_limpio.lower()\n",
    "    texto_limpio = re.sub(r'^(introduction|aims|objectives|methods|results|discussion|conclusion):\\s*', '', texto_limpio, flags=re.IGNORECASE)\n",
    "    texto_limpio = re.sub(r'\\b(notwithstanding|this paper aims|to evaluate|previous studies suggest that|the purpose of this study is)\\b', '', texto_limpio)\n",
    "    texto_limpio = re.sub(r'[^a-z0-9\\s,.]', '', texto_limpio)\n",
    "    texto_limpio = re.sub(r'\\s+', ' ', texto_limpio).strip()\n",
    "    return texto_limpio"
   ]
  },
  {
   "cell_type": "code",
   "execution_count": 3,
   "metadata": {},
   "outputs": [],
   "source": [
    "# ==================== Cargar y preparar dataset ====================\n",
    "file_path = r\"C:\\\\Users\\\\Jhonr\\\\Project_ODS_BERT\\\\Muestra_Limpia_ODS_3_9_Otros.xlsx\"\n",
    "df = pd.read_excel(file_path)\n",
    "df = df[df[\"ODS\"].isin([\"ODS 3\", \"ODS 9\", \"OTROS\"])]\n",
    "df[\"ODS_BINARIA\"] = df[\"ODS\"].apply(lambda x: \"ODS 3\" if x == \"ODS 3\" else \"NO ODS 3\")\n",
    "df['Abstract_Limpio'] = df['Abstract'].apply(lambda x: limpiar_texto(x) if es_ingles(x) else None)\n",
    "df = df.dropna(subset=['Abstract_Limpio'])\n",
    "\n",
    "textos = df[\"Abstract_Limpio\"].tolist()\n",
    "etiquetas = df[\"ODS_BINARIA\"].tolist()"
   ]
  },
  {
   "cell_type": "code",
   "execution_count": 4,
   "metadata": {},
   "outputs": [],
   "source": [
    "# ==================== Codificar etiquetas ====================\n",
    "label_encoder = LabelEncoder()\n",
    "labels_codificados = label_encoder.fit_transform(etiquetas)\n",
    "id2label = {i: label for i, label in enumerate(label_encoder.classes_)}\n",
    "label2id = {v: k for k, v in id2label.items()}\n",
    "\n",
    "# ==================== División de datos ====================\n",
    "X_train, X_val, y_train, y_val = train_test_split(\n",
    "    textos, labels_codificados, test_size=0.2, random_state=42, stratify=labels_codificados\n",
    ")"
   ]
  },
  {
   "cell_type": "code",
   "execution_count": 5,
   "metadata": {},
   "outputs": [
    {
     "name": "stderr",
     "output_type": "stream",
     "text": [
      "c:\\Users\\Jhonr\\anaconda3\\envs\\Entorno_Sugerido_NPL_jl\\lib\\site-packages\\transformers\\tokenization_utils_base.py:1601: FutureWarning: `clean_up_tokenization_spaces` was not set. It will be set to `True` by default. This behavior will be depracted in transformers v4.45, and will be then set to `False` by default. For more details check this issue: https://github.com/huggingface/transformers/issues/31884\n",
      "  warnings.warn(\n"
     ]
    }
   ],
   "source": [
    "# ==================== Dataset para BERT ====================\n",
    "tokenizer = AutoTokenizer.from_pretrained(\"bert-base-uncased\")\n",
    "\n",
    "class ODSDataset(Dataset):\n",
    "    def __init__(self, textos, etiquetas):\n",
    "        self.encodings = tokenizer(textos, truncation=True, padding=\"max_length\", max_length=256)\n",
    "        self.labels = etiquetas\n",
    "\n",
    "    def __len__(self):\n",
    "        return len(self.labels)\n",
    "\n",
    "    def __getitem__(self, idx):\n",
    "        item = {key: torch.tensor(val[idx]) for key, val in self.encodings.items()}\n",
    "        item[\"labels\"] = torch.tensor(self.labels[idx])\n",
    "        return item\n",
    "\n",
    "train_dataset = ODSDataset(X_train, y_train)\n",
    "val_dataset = ODSDataset(X_val, y_val)\n"
   ]
  },
  {
   "cell_type": "code",
   "execution_count": 6,
   "metadata": {},
   "outputs": [
    {
     "name": "stderr",
     "output_type": "stream",
     "text": [
      "Some weights of BertForSequenceClassification were not initialized from the model checkpoint at bert-base-uncased and are newly initialized: ['classifier.bias', 'classifier.weight']\n",
      "You should probably TRAIN this model on a down-stream task to be able to use it for predictions and inference.\n",
      "c:\\Users\\Jhonr\\anaconda3\\envs\\Entorno_Sugerido_NPL_jl\\lib\\site-packages\\transformers\\training_args.py:1525: FutureWarning: `evaluation_strategy` is deprecated and will be removed in version 4.46 of 🤗 Transformers. Use `eval_strategy` instead\n",
      "  warnings.warn(\n",
      " 19%|█▉        | 26/135 [00:10<00:36,  3.01it/s]c:\\Users\\Jhonr\\anaconda3\\envs\\Entorno_Sugerido_NPL_jl\\lib\\site-packages\\sklearn\\metrics\\_classification.py:1471: UndefinedMetricWarning: Precision is ill-defined and being set to 0.0 in labels with no predicted samples. Use `zero_division` parameter to control this behavior.\n",
      "  _warn_prf(average, modifier, msg_start, len(result))\n",
      "                                                \n",
      " 20%|██        | 27/135 [00:11<00:35,  3.01it/s]"
     ]
    },
    {
     "name": "stdout",
     "output_type": "stream",
     "text": [
      "{'eval_loss': 0.485706090927124, 'eval_accuracy': 0.6226415094339622, 'eval_precision': 0.3876824492702029, 'eval_recall': 0.6226415094339622, 'eval_f1': 0.4778411584028082, 'eval_runtime': 0.7161, 'eval_samples_per_second': 74.012, 'eval_steps_per_second': 9.775, 'epoch': 1.0}\n"
     ]
    },
    {
     "name": "stderr",
     "output_type": "stream",
     "text": [
      "                                                \n",
      " 40%|████      | 54/135 [00:22<00:27,  2.99it/s]"
     ]
    },
    {
     "name": "stdout",
     "output_type": "stream",
     "text": [
      "{'eval_loss': 0.3289452791213989, 'eval_accuracy': 0.9245283018867925, 'eval_precision': 0.9245283018867925, 'eval_recall': 0.9245283018867925, 'eval_f1': 0.9245283018867925, 'eval_runtime': 0.7206, 'eval_samples_per_second': 73.545, 'eval_steps_per_second': 9.714, 'epoch': 2.0}\n"
     ]
    },
    {
     "name": "stderr",
     "output_type": "stream",
     "text": [
      "                                                \n",
      " 60%|██████    | 81/135 [00:34<00:17,  3.00it/s]"
     ]
    },
    {
     "name": "stdout",
     "output_type": "stream",
     "text": [
      "{'eval_loss': 0.2968098521232605, 'eval_accuracy': 0.9245283018867925, 'eval_precision': 0.9245283018867925, 'eval_recall': 0.9245283018867925, 'eval_f1': 0.9245283018867925, 'eval_runtime': 0.72, 'eval_samples_per_second': 73.615, 'eval_steps_per_second': 9.723, 'epoch': 3.0}\n"
     ]
    },
    {
     "name": "stderr",
     "output_type": "stream",
     "text": [
      "                                                 \n",
      " 80%|████████  | 108/135 [00:47<00:09,  2.98it/s]"
     ]
    },
    {
     "name": "stdout",
     "output_type": "stream",
     "text": [
      "{'eval_loss': 0.35153108835220337, 'eval_accuracy': 0.8867924528301887, 'eval_precision': 0.891218945388148, 'eval_recall': 0.8867924528301887, 'eval_f1': 0.8877190026954178, 'eval_runtime': 0.7153, 'eval_samples_per_second': 74.091, 'eval_steps_per_second': 9.786, 'epoch': 4.0}\n"
     ]
    },
    {
     "name": "stderr",
     "output_type": "stream",
     "text": [
      "                                                 \n",
      "100%|██████████| 135/135 [01:00<00:00,  3.00it/s]"
     ]
    },
    {
     "name": "stdout",
     "output_type": "stream",
     "text": [
      "{'eval_loss': 0.3298443853855133, 'eval_accuracy': 0.8867924528301887, 'eval_precision': 0.891218945388148, 'eval_recall': 0.8867924528301887, 'eval_f1': 0.8877190026954178, 'eval_runtime': 0.7052, 'eval_samples_per_second': 75.152, 'eval_steps_per_second': 9.926, 'epoch': 5.0}\n"
     ]
    },
    {
     "name": "stderr",
     "output_type": "stream",
     "text": [
      "100%|██████████| 135/135 [01:05<00:00,  2.05it/s]"
     ]
    },
    {
     "name": "stdout",
     "output_type": "stream",
     "text": [
      "{'train_runtime': 65.8437, 'train_samples_per_second': 15.871, 'train_steps_per_second': 2.05, 'train_loss': 0.22357717443395544, 'epoch': 5.0}\n"
     ]
    },
    {
     "name": "stderr",
     "output_type": "stream",
     "text": [
      "\n"
     ]
    },
    {
     "data": {
      "text/plain": [
       "TrainOutput(global_step=135, training_loss=0.22357717443395544, metrics={'train_runtime': 65.8437, 'train_samples_per_second': 15.871, 'train_steps_per_second': 2.05, 'total_flos': 137475526425600.0, 'train_loss': 0.22357717443395544, 'epoch': 5.0})"
      ]
     },
     "execution_count": 6,
     "metadata": {},
     "output_type": "execute_result"
    }
   ],
   "source": [
    "# ==================== Modelo y entrenamiento ====================\n",
    "model = AutoModelForSequenceClassification.from_pretrained(\n",
    "    \"bert-base-uncased\",\n",
    "    num_labels=len(label_encoder.classes_),\n",
    "    id2label=id2label,\n",
    "    label2id=label2id\n",
    ")\n",
    "\n",
    "training_args = TrainingArguments(\n",
    "    output_dir=f\"./resultados_bert_ods3\",\n",
    "    evaluation_strategy=\"epoch\",\n",
    "    save_strategy=\"epoch\",\n",
    "    learning_rate=2e-5,\n",
    "    per_device_train_batch_size=8,\n",
    "    per_device_eval_batch_size=8,\n",
    "    num_train_epochs=5,\n",
    "    weight_decay=0.01,\n",
    "    seed=42,\n",
    "    logging_dir=f\"./logs_bert_ods3\",\n",
    "    load_best_model_at_end=True,\n",
    "    metric_for_best_model=\"f1\"\n",
    ")\n",
    "\n",
    "def compute_metrics(pred):\n",
    "    labels = pred.label_ids\n",
    "    preds = pred.predictions.argmax(-1)\n",
    "    return {\n",
    "        \"accuracy\": accuracy_score(labels, preds),\n",
    "        \"precision\": precision_score(labels, preds, average=\"weighted\"),\n",
    "        \"recall\": recall_score(labels, preds, average=\"weighted\"),\n",
    "        \"f1\": f1_score(labels, preds, average=\"weighted\")\n",
    "    }\n",
    "\n",
    "trainer = Trainer(\n",
    "    model=model,\n",
    "    args=training_args,\n",
    "    train_dataset=train_dataset,\n",
    "    eval_dataset=val_dataset,\n",
    "    tokenizer=tokenizer,\n",
    "    compute_metrics=compute_metrics\n",
    ")\n",
    "\n",
    "trainer.train()"
   ]
  },
  {
   "cell_type": "code",
   "execution_count": 7,
   "metadata": {},
   "outputs": [
    {
     "name": "stderr",
     "output_type": "stream",
     "text": [
      "100%|██████████| 7/7 [00:00<00:00, 12.10it/s]\n"
     ]
    },
    {
     "name": "stdout",
     "output_type": "stream",
     "text": [
      "\n",
      "Reporte de clasificación (modelo ODS 3):\n",
      "              precision    recall  f1-score   support\n",
      "\n",
      "    NO ODS 3       0.90      0.90      0.90        20\n",
      "       ODS 3       0.94      0.94      0.94        33\n",
      "\n",
      "    accuracy                           0.92        53\n",
      "   macro avg       0.92      0.92      0.92        53\n",
      "weighted avg       0.92      0.92      0.92        53\n",
      "\n"
     ]
    },
    {
     "data": {
      "image/png": "[encoded data removed]",
      "text/plain": [
       "<Figure size 600x400 with 2 Axes>"
      ]
     },
     "metadata": {},
     "output_type": "display_data"
    }
   ],
   "source": [
    "# ==================== Evaluación final ====================\n",
    "preds = trainer.predict(val_dataset)\n",
    "y_true = preds.label_ids\n",
    "y_pred = preds.predictions.argmax(-1)\n",
    "\n",
    "print(\"\\nReporte de clasificación (modelo ODS 3):\")\n",
    "print(classification_report(y_true, y_pred, target_names=label_encoder.classes_))\n",
    "\n",
    "cm = confusion_matrix(y_true, y_pred)\n",
    "plt.figure(figsize=(6, 4))\n",
    "sns.heatmap(cm, annot=True, fmt=\"d\", xticklabels=label_encoder.classes_, yticklabels=label_encoder.classes_, cmap=\"Blues\")\n",
    "plt.title(\"Matriz de confusión - Modelo ODS 3\")\n",
    "plt.xlabel(\"Predicción\")\n",
    "plt.ylabel(\"Real\")\n",
    "plt.tight_layout()\n",
    "plt.show()"
   ]
  },
  {
   "cell_type": "code",
   "execution_count": 8,
   "metadata": {},
   "outputs": [
    {
     "data": {
      "text/plain": [
       "('C:\\\\\\\\Users\\\\\\\\Jhonr\\\\\\\\Project_ODS_BERT\\\\\\\\Modelos\\\\\\\\BERT_ODS3_Medicina\\\\tokenizer_config.json',\n",
       " 'C:\\\\\\\\Users\\\\\\\\Jhonr\\\\\\\\Project_ODS_BERT\\\\\\\\Modelos\\\\\\\\BERT_ODS3_Medicina\\\\special_tokens_map.json',\n",
       " 'C:\\\\\\\\Users\\\\\\\\Jhonr\\\\\\\\Project_ODS_BERT\\\\\\\\Modelos\\\\\\\\BERT_ODS3_Medicina\\\\vocab.txt',\n",
       " 'C:\\\\\\\\Users\\\\\\\\Jhonr\\\\\\\\Project_ODS_BERT\\\\\\\\Modelos\\\\\\\\BERT_ODS3_Medicina\\\\added_tokens.json',\n",
       " 'C:\\\\\\\\Users\\\\\\\\Jhonr\\\\\\\\Project_ODS_BERT\\\\\\\\Modelos\\\\\\\\BERT_ODS3_Medicina\\\\tokenizer.json')"
      ]
     },
     "execution_count": 8,
     "metadata": {},
     "output_type": "execute_result"
    }
   ],
   "source": [
    "# ==================== Guardar modelo ====================\n",
    "modelo_path = r\"C:\\\\Users\\\\Jhonr\\\\Project_ODS_BERT\\\\Modelos\\\\BERT_ODS3_Medicina\"\n",
    "model.save_pretrained(modelo_path)\n",
    "tokenizer.save_pretrained(modelo_path)"
   ]
  }
 ],
 "metadata": {
  "kernelspec": {
   "display_name": "Entorno_Sugerido_NPL_jl",
   "language": "python",
   "name": "python3"
  },
  "language_info": {
   "codemirror_mode": {
    "name": "ipython",
    "version": 3
   },
   "file_extension": ".py",
   "mimetype": "text/x-python",
   "name": "python",
   "nbconvert_exporter": "python",
   "pygments_lexer": "ipython3",
   "version": "3.8.20"
  }
 },
 "nbformat": 4,
 "nbformat_minor": 2
}
